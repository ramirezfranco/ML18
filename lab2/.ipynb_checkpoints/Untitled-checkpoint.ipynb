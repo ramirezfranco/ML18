{
 "cells": [
  {
   "cell_type": "code",
   "execution_count": 1,
   "metadata": {
    "collapsed": true
   },
   "outputs": [],
   "source": [
    "import pandas as pd\n",
    "import geopandas as gpd\n",
    "import matplotlib.pyplot as plt\n",
    "import numpy as np"
   ]
  },
  {
   "cell_type": "code",
   "execution_count": 2,
   "metadata": {
    "collapsed": true
   },
   "outputs": [],
   "source": [
    "#number of rows to read\n",
    "size = 20000\n",
    "rod_df = pd.read_csv('data/311_rodent.csv')\n",
    "vac_df = pd.read_csv('data/311_vacant.csv')\n",
    "geo_df = gpd.read_file('data/chi_boundaries.geojson')"
   ]
  },
  {
   "cell_type": "code",
   "execution_count": 3,
   "metadata": {
    "collapsed": true
   },
   "outputs": [],
   "source": [
    "# Some preprocessing\n",
    "vac_df.drop(['IS THE BUILDING DANGEROUS OR HAZARDOUS?'], axis = 1, inplace=True)\n",
    "vac_df.dropna(inplace=True)\n",
    "rod_df.dropna(inplace=True)\n",
    "vac_df['zip'] = vac_df['ZIP CODE'].astype(int)\n",
    "rod_df['zip'] = rod_df['ZIP Code'].astype(int)\n",
    "geo_df['zip'] = geo_df['zip'].astype(int)"
   ]
  },
  {
   "cell_type": "code",
   "execution_count": 4,
   "metadata": {},
   "outputs": [
    {
     "data": {
      "text/html": [
       "<div>\n",
       "<style>\n",
       "    .dataframe thead tr:only-child th {\n",
       "        text-align: right;\n",
       "    }\n",
       "\n",
       "    .dataframe thead th {\n",
       "        text-align: left;\n",
       "    }\n",
       "\n",
       "    .dataframe tbody tr th {\n",
       "        vertical-align: top;\n",
       "    }\n",
       "</style>\n",
       "<table border=\"1\" class=\"dataframe\">\n",
       "  <thead>\n",
       "    <tr style=\"text-align: right;\">\n",
       "      <th></th>\n",
       "      <th>objectid</th>\n",
       "      <th>shape_len</th>\n",
       "      <th>zip</th>\n",
       "      <th>shape_area</th>\n",
       "      <th>geometry</th>\n",
       "    </tr>\n",
       "  </thead>\n",
       "  <tbody>\n",
       "    <tr>\n",
       "      <th>0</th>\n",
       "      <td>33</td>\n",
       "      <td>42720.0444058</td>\n",
       "      <td>60647</td>\n",
       "      <td>106052287.488</td>\n",
       "      <td>(POLYGON ((-87.67762151065281 41.9177578010629...</td>\n",
       "    </tr>\n",
       "    <tr>\n",
       "      <th>1</th>\n",
       "      <td>34</td>\n",
       "      <td>48103.7827213</td>\n",
       "      <td>60639</td>\n",
       "      <td>127476050.762</td>\n",
       "      <td>(POLYGON ((-87.72683253163021 41.9226462671259...</td>\n",
       "    </tr>\n",
       "    <tr>\n",
       "      <th>2</th>\n",
       "      <td>35</td>\n",
       "      <td>27288.6096123</td>\n",
       "      <td>60707</td>\n",
       "      <td>45069038.4783</td>\n",
       "      <td>(POLYGON ((-87.78500237831095 41.9091478547167...</td>\n",
       "    </tr>\n",
       "    <tr>\n",
       "      <th>3</th>\n",
       "      <td>36</td>\n",
       "      <td>42527.9896789</td>\n",
       "      <td>60622</td>\n",
       "      <td>70853834.3797</td>\n",
       "      <td>(POLYGON ((-87.6670686895295 41.88885188496992...</td>\n",
       "    </tr>\n",
       "    <tr>\n",
       "      <th>4</th>\n",
       "      <td>37</td>\n",
       "      <td>47970.1401531</td>\n",
       "      <td>60651</td>\n",
       "      <td>99039621.2518</td>\n",
       "      <td>(POLYGON ((-87.70655631674127 41.8955534069940...</td>\n",
       "    </tr>\n",
       "  </tbody>\n",
       "</table>\n",
       "</div>"
      ],
      "text/plain": [
       "  objectid      shape_len    zip     shape_area  \\\n",
       "0       33  42720.0444058  60647  106052287.488   \n",
       "1       34  48103.7827213  60639  127476050.762   \n",
       "2       35  27288.6096123  60707  45069038.4783   \n",
       "3       36  42527.9896789  60622  70853834.3797   \n",
       "4       37  47970.1401531  60651  99039621.2518   \n",
       "\n",
       "                                            geometry  \n",
       "0  (POLYGON ((-87.67762151065281 41.9177578010629...  \n",
       "1  (POLYGON ((-87.72683253163021 41.9226462671259...  \n",
       "2  (POLYGON ((-87.78500237831095 41.9091478547167...  \n",
       "3  (POLYGON ((-87.6670686895295 41.88885188496992...  \n",
       "4  (POLYGON ((-87.70655631674127 41.8955534069940...  "
      ]
     },
     "execution_count": 4,
     "metadata": {},
     "output_type": "execute_result"
    }
   ],
   "source": [
    "geo_df.head()"
   ]
  },
  {
   "cell_type": "code",
   "execution_count": 5,
   "metadata": {},
   "outputs": [
    {
     "data": {
      "text/plain": [
       "<matplotlib.axes._subplots.AxesSubplot at 0x1d333816128>"
      ]
     },
     "execution_count": 5,
     "metadata": {},
     "output_type": "execute_result"
    }
   ],
   "source": [
    "geo_df.plot()"
   ]
  },
  {
   "cell_type": "code",
   "execution_count": 6,
   "metadata": {},
   "outputs": [
    {
     "data": {
      "text/plain": [
       "<matplotlib.axes._subplots.AxesSubplot at 0x1d33447c940>"
      ]
     },
     "execution_count": 6,
     "metadata": {},
     "output_type": "execute_result"
    }
   ],
   "source": [
    "geo_df.plot(column = 'shape_area', cmap= 'OrRd')"
   ]
  },
  {
   "cell_type": "code",
   "execution_count": null,
   "metadata": {
    "collapsed": true
   },
   "outputs": [],
   "source": []
  }
 ],
 "metadata": {
  "kernelspec": {
   "display_name": "Python 3",
   "language": "python",
   "name": "python3"
  },
  "language_info": {
   "codemirror_mode": {
    "name": "ipython",
    "version": 3
   },
   "file_extension": ".py",
   "mimetype": "text/x-python",
   "name": "python",
   "nbconvert_exporter": "python",
   "pygments_lexer": "ipython3",
   "version": "3.6.3"
  }
 },
 "nbformat": 4,
 "nbformat_minor": 2
}
